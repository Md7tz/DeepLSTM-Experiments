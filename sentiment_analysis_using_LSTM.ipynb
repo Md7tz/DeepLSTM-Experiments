{
 "cells": [
  {
   "cell_type": "markdown",
   "id": "effbe575-fc57-4778-ac73-47f0220c8872",
   "metadata": {},
   "source": [
    "# Sentiment Analysis using LSTM"
   ]
  },
  {
   "cell_type": "code",
   "execution_count": 1,
   "id": "8ea0d220-8b2d-4926-abba-bd164559ac58",
   "metadata": {},
   "outputs": [],
   "source": [
    "import torch\n",
    "import torch.nn as nn\n",
    "import torch.optim as optim"
   ]
  },
  {
   "cell_type": "markdown",
   "id": "efd2ffc4-a41e-46b2-bced-92c64f17c453",
   "metadata": {},
   "source": [
    "### Prepare data"
   ]
  },
  {
   "cell_type": "code",
   "execution_count": 2,
   "id": "583895b0-75cd-4958-9339-39fea8710515",
   "metadata": {},
   "outputs": [],
   "source": [
    "# Sentences (Textual data) and their sentiment labels (1 for positive, 0 for negative)\n",
    "sentences = [\"i love this movie\", \"this film is amazing\", \"i didn't like it\", \"it was terrible\"]\n",
    "sentiment = [1, 1, 0, 0]"
   ]
  },
  {
   "cell_type": "markdown",
   "id": "8a8ef7fe-3461-4db7-8265-a3f5669fcc43",
   "metadata": {},
   "source": [
    "### Create Vocabulary"
   ]
  },
  {
   "cell_type": "code",
   "execution_count": 3,
   "id": "647029a3-beef-46a6-8079-f5ed51f271a9",
   "metadata": {},
   "outputs": [],
   "source": [
    "# Simple vocabulary to represent words as indices\n",
    "vocab = {\"<PAD>\": 0, \"i\": 1, \"love\": 2, \"this\": 3, \"movie\": 4, \"film\": 5, \"is\": 6, \"amazing\": 7, \"didn't\": 8, \"like\": 9, \"it\": 10, \"was\": 11, \"terrible\": 12}"
   ]
  },
  {
   "cell_type": "markdown",
   "id": "935c9a87-7ac7-4762-8980-1794c2b3733b",
   "metadata": {},
   "source": [
    "We create a simple vocabulary to represent words as indices. This allows us to convert words in our sentences to numbers, which can be fed as input to our neural network."
   ]
  },
  {
   "cell_type": "markdown",
   "id": "24614359-9bbf-447f-9631-205b0d29461c",
   "metadata": {},
   "source": [
    "### Tokenize, encode and pad sentences"
   ]
  },
  {
   "cell_type": "code",
   "execution_count": 5,
   "id": "4fa5c1aa-28f9-40df-b67f-0ec5dcd8253d",
   "metadata": {},
   "outputs": [],
   "source": [
    "encoded_sentences = [[vocab[word] for word in sentence.split()] for sentence in sentences]\n",
    "max_length = max([len(sentence) for sentence in encoded_sentences])\n",
    "padded_sentences = [sentence + [vocab['<PAD>']] * (max_length - len(sentence)) for sentence in encoded_sentences]"
   ]
  },
  {
   "cell_type": "code",
   "execution_count": 6,
   "id": "74f3fdf9-3667-4575-bf2f-923f04190ac8",
   "metadata": {},
   "outputs": [
    {
     "data": {
      "text/plain": [
       "[[1, 2, 3, 4], [3, 5, 6, 7], [1, 8, 9, 10], [10, 11, 12]]"
      ]
     },
     "execution_count": 6,
     "metadata": {},
     "output_type": "execute_result"
    }
   ],
   "source": [
    "encoded_sentences"
   ]
  },
  {
   "cell_type": "code",
   "execution_count": 7,
   "id": "8a02c958-1129-4cbb-aa7b-f0f25fc43912",
   "metadata": {},
   "outputs": [
    {
     "data": {
      "text/plain": [
       "4"
      ]
     },
     "execution_count": 7,
     "metadata": {},
     "output_type": "execute_result"
    }
   ],
   "source": [
    "max_length"
   ]
  },
  {
   "cell_type": "markdown",
   "id": "1d869d50-31e2-4253-860a-a30a2b80f1e1",
   "metadata": {},
   "source": [
    "We tokenize and encode the sentences using the vocabulary created earlier. We also pad the sentences with the `<PAD>` token to make them all the same length."
   ]
  },
  {
   "cell_type": "code",
   "execution_count": 8,
   "id": "3507d859-713b-42af-ac98-68bf0f1c185f",
   "metadata": {},
   "outputs": [
    {
     "data": {
      "text/plain": [
       "[[1, 2, 3, 4], [3, 5, 6, 7], [1, 8, 9, 10], [10, 11, 12, 0]]"
      ]
     },
     "execution_count": 8,
     "metadata": {},
     "output_type": "execute_result"
    }
   ],
   "source": [
    "padded_sentences"
   ]
  },
  {
   "cell_type": "markdown",
   "id": "859e746c-aa76-402c-9afa-f03e28832f89",
   "metadata": {},
   "source": [
    "### Convert data to tensors"
   ]
  },
  {
   "cell_type": "code",
   "execution_count": 11,
   "id": "4b52089e-5515-423a-95dc-2e1837dfc36c",
   "metadata": {},
   "outputs": [],
   "source": [
    "inputs = torch.LongTensor(padded_sentences)\n",
    "labels = torch.FloatTensor(sentiment)"
   ]
  },
  {
   "cell_type": "markdown",
   "id": "7de93062-bc4d-400e-b00e-c2fb9dd97a8f",
   "metadata": {},
   "source": [
    "We convert the input data and labels to PyTorch tensors. Inputs are converted to LongTensors, while labels are converted to FloatTensors."
   ]
  },
  {
   "cell_type": "code",
   "execution_count": 12,
   "id": "6ad19239-5926-435f-ab91-dab733429233",
   "metadata": {},
   "outputs": [
    {
     "data": {
      "text/plain": [
       "(tensor([[ 1,  2,  3,  4],\n",
       "         [ 3,  5,  6,  7],\n",
       "         [ 1,  8,  9, 10],\n",
       "         [10, 11, 12,  0]]),\n",
       " tensor([1., 1., 0., 0.]))"
      ]
     },
     "execution_count": 12,
     "metadata": {},
     "output_type": "execute_result"
    }
   ],
   "source": [
    "inputs, labels"
   ]
  },
  {
   "cell_type": "markdown",
   "id": "67346b37-71fd-4824-abec-e9a8e48a9007",
   "metadata": {},
   "source": [
    "## Define LSTM Model"
   ]
  },
  {
   "cell_type": "code",
   "execution_count": 15,
   "id": "b032fd20-fe25-44d3-b4af-1b016c219d72",
   "metadata": {},
   "outputs": [],
   "source": [
    "class SimpleLSTM(nn.Module):\n",
    "    def __init__(self, vocab_size, embedding_dim, hidden_dim, output_dim):\n",
    "        super(SimpleLSTM, self).__init__()\n",
    "        self.embedding = nn.Embedding(vocab_size, embedding_dim)\n",
    "        self.lstm = nn.LSTM(input_size=embedding_dim, hidden_size=hidden_dim)\n",
    "        self.fc = nn.Linear(hidden_dim, output_dim)\n",
    "\n",
    "    def forward(self, x):\n",
    "        embedded = self.embedding(x)\n",
    "        out, (hidden, _) = self.lstm(embedded)\n",
    "        logits = self.fc(hidden.squeeze(0))\n",
    "        return logits\n"
   ]
  },
  {
   "cell_type": "markdown",
   "id": "49758b3a-8fda-4f19-957e-3ab9d96fd2d9",
   "metadata": {},
   "source": [
    "We define a simple LSTM model class that inherits from `nn.Module`. The model consists of an embedding layer, an LSTM layer, and a fully connected (linear) layer. The forward method takes an input tensor `x`, passes it through the embedding layer, the LSTM layer, and finally the fully connected layer to produce the output logits."
   ]
  },
  {
   "cell_type": "markdown",
   "id": "1cf8af95-fb90-4160-acf2-f16169175670",
   "metadata": {},
   "source": [
    "### Instantiate model and define loss and optimizer"
   ]
  },
  {
   "cell_type": "code",
   "execution_count": 16,
   "id": "61d41d6e-172b-4606-9d2d-bc6c01d82c93",
   "metadata": {},
   "outputs": [],
   "source": [
    "model = SimpleLSTM(len(vocab), embedding_dim=10, hidden_dim=20, output_dim=1)\n",
    "criterion = nn.BCEWithLogitsLoss()\n",
    "optimizer = optim.Adam(model.parameters(), lr=1e-3)"
   ]
  },
  {
   "cell_type": "markdown",
   "id": "c8fc1f56-1382-405f-9118-547a79118024",
   "metadata": {},
   "source": [
    "We instantiate the LSTM model with the vocabulary size, embedding dimensions, hidden dimensions, and output dimensions. We also define the binary cross-entropy with logits loss (`BCEWithLogitsLoss`) and the Adam optimizer."
   ]
  },
  {
   "cell_type": "markdown",
   "id": "5b0026cf-d5a7-4b4b-ad3b-8c626d99e3f0",
   "metadata": {},
   "source": [
    "## Train the model"
   ]
  },
  {
   "cell_type": "code",
   "execution_count": 27,
   "id": "83bcf9a5-6985-439c-9273-1f250c332a41",
   "metadata": {},
   "outputs": [
    {
     "data": {
      "text/plain": [
       "(tensor([1, 2, 3, 4]),\n",
       " tensor([[ 1,  3,  1, 10],\n",
       "         [ 2,  5,  8, 11],\n",
       "         [ 3,  6,  9, 12],\n",
       "         [ 4,  7, 10,  0]]))"
      ]
     },
     "execution_count": 27,
     "metadata": {},
     "output_type": "execute_result"
    }
   ],
   "source": [
    "inputs[0], inputs.t()"
   ]
  },
  {
   "cell_type": "code",
   "execution_count": 30,
   "id": "051b0971-91de-45ea-b48b-4085602cbea3",
   "metadata": {},
   "outputs": [
    {
     "name": "stdout",
     "output_type": "stream",
     "text": [
      "Epoch: 100, Loss: 0.00042748049600049853\n",
      "Epoch: 200, Loss: 0.0003904219774994999\n",
      "Epoch: 300, Loss: 0.00035786055377684534\n",
      "Epoch: 400, Loss: 0.00032914121402427554\n",
      "Epoch: 500, Loss: 0.00030354931368492544\n",
      "Epoch: 600, Loss: 0.0002806679403875023\n",
      "Epoch: 700, Loss: 0.00026011004229076207\n",
      "Epoch: 800, Loss: 0.0002414585615042597\n",
      "Epoch: 900, Loss: 0.00022459443425759673\n",
      "Epoch: 1000, Loss: 0.00020921982650179416\n"
     ]
    }
   ],
   "source": [
    "epochs = 1000\n",
    "model.train()\n",
    "for epoch in range(1, epochs + 1):\n",
    "    # Zero the gradient\n",
    "    optimizer.zero_grad()\n",
    "\n",
    "    # Forward pass\n",
    "    predictions = model(inputs.t()).squeeze(1)\n",
    "\n",
    "    # Calculate loss and perform optimzation step\n",
    "    loss = criterion(predictions, labels)\n",
    "    loss.backward()\n",
    "\n",
    "    optimizer.step()\n",
    "\n",
    "    if(epoch % 100 == 0):\n",
    "        print(f\"Epoch: {epoch}, Loss: {loss.item()}\")\n"
   ]
  },
  {
   "cell_type": "markdown",
   "id": "7f3185ab-bdf1-40bc-9490-1d3d139f3044",
   "metadata": {},
   "source": [
    "## Test the model"
   ]
  },
  {
   "cell_type": "code",
   "execution_count": 33,
   "id": "171897ba-db52-499d-bcf6-90dc935503aa",
   "metadata": {},
   "outputs": [
    {
     "name": "stdout",
     "output_type": "stream",
     "text": [
      "Test predictions: tensor([9.9605e-01, 1.7678e-04])\n"
     ]
    }
   ],
   "source": [
    "with torch.no_grad():\n",
    "    test_sentences = [\"i love this film\", \"it was terrible\"]\n",
    "    encoded_test_sentences = [[vocab[word] for word in sentence.split()] for sentence in test_sentences]\n",
    "    padded_test_sentences = [sentence + [vocab[\"<PAD>\"]] * (max_length - len(sentence)) for sentence in encoded_test_sentences]\n",
    "    test_inputs = torch.LongTensor(padded_test_sentences)\n",
    "    test_predictions = torch.sigmoid(model(test_inputs.t()).squeeze(1))\n",
    "    print(\"Test predictions:\", test_predictions)\n"
   ]
  },
  {
   "cell_type": "markdown",
   "id": "6394853e-424b-4d30-9548-54694e5a4955",
   "metadata": {},
   "source": [
    "We test the model on two new sentences. First, we tokenize, encode, and pad the test sentences in the same way as we did for the training sentences. We then convert the test sentences to PyTorch tensors and pass them through the model. We apply the sigmoid function to the output logits to obtain the final predictions, which represent the probability of each sentence being positive.\n",
    "\n",
    "The resulting `test_predictions` tensor contains the model's sentiment predictions for the given test sentences."
   ]
  }
 ],
 "metadata": {
  "kernelspec": {
   "display_name": "Python 3 (ipykernel)",
   "language": "python",
   "name": "python3"
  },
  "language_info": {
   "codemirror_mode": {
    "name": "ipython",
    "version": 3
   },
   "file_extension": ".py",
   "mimetype": "text/x-python",
   "name": "python",
   "nbconvert_exporter": "python",
   "pygments_lexer": "ipython3",
   "version": "3.10.13"
  }
 },
 "nbformat": 4,
 "nbformat_minor": 5
}
