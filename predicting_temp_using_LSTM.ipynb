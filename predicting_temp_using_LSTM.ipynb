{
 "cells": [
  {
   "cell_type": "markdown",
   "id": "e428ffe7-a46b-401f-aae1-9d799b1b7cc7",
   "metadata": {},
   "source": [
    "# Predicting Temperature Time Series with LSTM Using PyTorch\r\n",
    "\r\n",
    "### Introduction\r\n",
    "Long Short-Term Memory (LSTM) is a type of recurrent neural network (RNN) that is commonly used for sequence modeling, particularly for processing time-series data. Unlike traditional RNNs, LSTMs have a memory cell that allows them to selectively remember or forget information over time, which makes them particularly useful for long-term dependencies.\r\n",
    "\r\n",
    "In this tutorial, we'll use Pytorch to build an LSTM model that can predict a time-series based on previous data. We'll use numpy and pandas to preprocess the data.\r\n",
    "\r\n",
    "## Step 1: Import Libraries\r\n",
    "We'll start by importing the necessary libraries."
   ]
  },
  {
   "cell_type": "code",
   "execution_count": 1,
   "id": "e42f2450-5853-4cb2-8f33-f3d282a8ff9c",
   "metadata": {},
   "outputs": [],
   "source": [
    "import numpy as np\n",
    "import pandas as pd\n",
    "import torch\n",
    "import torch.nn as nn"
   ]
  },
  {
   "cell_type": "markdown",
   "id": "3042bfbd-5e8f-4d17-9ce9-c6d099f47cf3",
   "metadata": {},
   "source": [
    "## Step 2: Load Data"
   ]
  },
  {
   "cell_type": "code",
   "execution_count": 11,
   "id": "35c24e60-ccb7-4f5c-b47d-2ad3288d2a48",
   "metadata": {},
   "outputs": [
    {
     "data": {
      "text/plain": [
       "array([[2.33814295],\n",
       "       [2.33814295],\n",
       "       [2.33814295],\n",
       "       [2.33814295],\n",
       "       [2.33814295]])"
      ]
     },
     "execution_count": 11,
     "metadata": {},
     "output_type": "execute_result"
    }
   ],
   "source": [
    "# Load data into pandas DataFrame\n",
    "df = pd.read_csv('./data/temperature.csv')\n",
    "\n",
    "# Convert the 'datetime' column to a datetime object\n",
    "df['Date'] = pd.to_datetime(df['Date'])\n",
    "\n",
    "# Set the 'datetime' column as the index\n",
    "df.set_index('Date', inplace=True)\n",
    "\n",
    "# Resample the data to hourly intervals and fill missing values with previous value\n",
    "df = df.resample('H').ffill()\n",
    "\n",
    "# Normalize the data\n",
    "df = (df - df.mean()) / df.std()\n",
    "\n",
    "# Convert the DataFrame to a Numpy array\n",
    "data = df.values\n",
    "data[:5]"
   ]
  },
  {
   "cell_type": "markdown",
   "id": "43af555a-dbf5-445c-b5c1-21d33076eca1",
   "metadata": {},
   "source": [
    "### Step 3: Split Data\n",
    "\n",
    "Next, we'll split the data into training and testing sets. We'll use the first 70% of the data for training and the remaining 30% for testing."
   ]
  },
  {
   "cell_type": "code",
   "execution_count": 14,
   "id": "2c6492e9-7399-4872-8938-1ad6b7b4f719",
   "metadata": {},
   "outputs": [],
   "source": [
    "# Split the data into training and testing sets\n",
    "train_size = int(len(data) * 0.7)\n",
    "train_data, test_data = data[:train_size], data[train_size:]"
   ]
  },
  {
   "cell_type": "code",
   "execution_count": 16,
   "id": "ac934ea7-dd4d-482e-a03c-9fa6610ae7d4",
   "metadata": {},
   "outputs": [
    {
     "data": {
      "text/plain": [
       "(61337, 26288)"
      ]
     },
     "execution_count": 16,
     "metadata": {},
     "output_type": "execute_result"
    }
   ],
   "source": [
    "len(train_data), len(test_data)"
   ]
  },
  {
   "cell_type": "markdown",
   "id": "fa17c231-00af-454f-9bdd-d6f72d311003",
   "metadata": {},
   "source": [
    "### Step 4: Create Data Sequences\n",
    "Before we can train our LSTM model, we need to create sequences of data that the model can learn from. We'll create sequences of length 24 (one day), and we'll use a sliding window approach to create overlapping sequences."
   ]
  },
  {
   "cell_type": "code",
   "execution_count": 43,
   "id": "62b80bb5-2c42-4b4d-9193-72846b626c43",
   "metadata": {},
   "outputs": [],
   "source": [
    "# Function to create sequences of data\n",
    "def create_sequences(data, seq_length):\n",
    "    X = []\n",
    "    y = []\n",
    "    for i in range(len(data) - seq_length):\n",
    "        X.append(data[i: i + seq_length])\n",
    "        y.append(data[i + seq_length])\n",
    "    return np.array(X), np.array(y)\n",
    "\n",
    "# Create sequences for training and testing data\n",
    "seq_length = 24\n",
    "X_train, y_train = create_sequences(train_data, seq_length)\n",
    "X_test, y_test = create_sequences(test_data, seq_length)\n",
    "# X_train[1], y_train[1]"
   ]
  },
  {
   "cell_type": "markdown",
   "id": "2dce2068-7180-497e-9f7b-f93fe7f6c82c",
   "metadata": {},
   "source": [
    "### Step 5: Create LSTM Model\r\n",
    "Now, we'll create our LSTM model using Pytorch. Our model will have one LSTM layer with 32 hidden units and one fully connected output layer."
   ]
  },
  {
   "cell_type": "code",
   "execution_count": 44,
   "id": "0485491b-ccdd-4805-8164-f5ff0e83a4ac",
   "metadata": {},
   "outputs": [],
   "source": [
    "class LSTM(nn.Module):\n",
    "    def __init__(self, input_size, hidden_size, output_size):\n",
    "        super(LSTM, self).__init__()\n",
    "        self.lstm = nn.LSTM(input_size, hidden_size, batch_first=True) # (batch, seq, feature)` instead of `(seq, batch, feature)\n",
    "        self.fc = nn.Linear(hidden_size, output_size)\n",
    "\n",
    "    def forward(self, x):\n",
    "        out, _ = self.lstm(x)\n",
    "        # The last output of the LSTM sequence is (out[:, -1, :]) to be passed it through the fully connected layer\n",
    "        out = self.fc(out[:, -1, :])\n",
    "        return out"
   ]
  },
  {
   "cell_type": "markdown",
   "id": "d80571e7-b28c-46b3-af14-3a5d6c408590",
   "metadata": {},
   "source": [
    "### Step 6: Instantiate Model and Define Loss Function and Optimizer\n",
    "Now, we'll instantiate our LSTM model, define our loss function (mean squared error), and define our optimizer (Adam)."
   ]
  },
  {
   "cell_type": "code",
   "execution_count": 45,
   "id": "7314a083-abbc-4352-a331-17403fde28b5",
   "metadata": {},
   "outputs": [
    {
     "data": {
      "text/plain": [
       "((61313, 24, 1), torch.Size([61313]))"
      ]
     },
     "execution_count": 45,
     "metadata": {},
     "output_type": "execute_result"
    }
   ],
   "source": [
    "X_train.shape, torch.randperm(X_train.shape[0]).size()"
   ]
  },
  {
   "cell_type": "code",
   "execution_count": 46,
   "id": "ce8b7d39-582e-4f47-a4ab-6361d221e71f",
   "metadata": {},
   "outputs": [],
   "source": [
    "# Instantiate the model\n",
    "input_size = X_train.shape[2]\n",
    "hidden_size = 32\n",
    "output_size = 1\n",
    "model = LSTM(input_size, hidden_size, output_size)\n",
    "if torch.cuda.is_available():\n",
    "    model.cuda()\n",
    "\n",
    "# Define the loss function and the optimizer\n",
    "criterion = nn.MSELoss()\n",
    "optimizer = torch.optim.Adam(model.parameters(), lr=1e-3)"
   ]
  },
  {
   "cell_type": "markdown",
   "id": "bcb015a4-7123-4d14-9e2b-5c30972bbda4",
   "metadata": {},
   "source": [
    "### Step 7: Train the Model\n",
    "Next, we'll train our LSTM model on the training data. We'll use a batch size of 32 and train for 50 epochs."
   ]
  },
  {
   "cell_type": "code",
   "execution_count": 47,
   "id": "8d5c7e28-53b6-4140-b7ae-8a8d152b2351",
   "metadata": {},
   "outputs": [
    {
     "data": {
      "text/plain": [
       "device(type='cuda')"
      ]
     },
     "execution_count": 47,
     "metadata": {},
     "output_type": "execute_result"
    }
   ],
   "source": [
    "device = torch.device('cuda' if torch.cuda.is_available() else 'cpu')\n",
    "device"
   ]
  },
  {
   "cell_type": "code",
   "execution_count": 48,
   "id": "c810f356-fd6d-44f4-be50-c2c5003ae17a",
   "metadata": {},
   "outputs": [
    {
     "name": "stdout",
     "output_type": "stream",
     "text": [
      "Epoch [1/50], Loss: 0.0002\n",
      "Epoch [2/50], Loss: 0.0000\n",
      "Epoch [3/50], Loss: 0.0017\n",
      "Epoch [4/50], Loss: 0.0001\n",
      "Epoch [5/50], Loss: 0.0001\n",
      "Epoch [6/50], Loss: 0.0000\n",
      "Epoch [7/50], Loss: 0.0004\n",
      "Epoch [8/50], Loss: 0.0003\n",
      "Epoch [9/50], Loss: 0.0002\n",
      "Epoch [10/50], Loss: 0.0008\n",
      "Epoch [11/50], Loss: 0.0000\n",
      "Epoch [12/50], Loss: 0.0001\n",
      "Epoch [13/50], Loss: 0.0027\n",
      "Epoch [14/50], Loss: 0.0000\n",
      "Epoch [15/50], Loss: 0.0001\n",
      "Epoch [16/50], Loss: 0.0000\n",
      "Epoch [17/50], Loss: 0.0000\n",
      "Epoch [18/50], Loss: 0.0001\n",
      "Epoch [19/50], Loss: 0.0054\n",
      "Epoch [20/50], Loss: 0.0000\n",
      "Epoch [21/50], Loss: 0.0003\n",
      "Epoch [22/50], Loss: 0.0002\n",
      "Epoch [23/50], Loss: 0.0001\n",
      "Epoch [24/50], Loss: 0.0032\n",
      "Epoch [25/50], Loss: 0.0005\n",
      "Epoch [26/50], Loss: 0.0001\n",
      "Epoch [27/50], Loss: 0.0001\n",
      "Epoch [28/50], Loss: 0.0000\n",
      "Epoch [29/50], Loss: 0.0000\n",
      "Epoch [30/50], Loss: 0.0001\n",
      "Epoch [31/50], Loss: 0.0000\n",
      "Epoch [32/50], Loss: 0.0000\n",
      "Epoch [33/50], Loss: 0.0000\n",
      "Epoch [34/50], Loss: 0.0000\n",
      "Epoch [35/50], Loss: 0.0000\n",
      "Epoch [36/50], Loss: 0.0000\n",
      "Epoch [37/50], Loss: 0.0006\n",
      "Epoch [38/50], Loss: 0.0001\n",
      "Epoch [39/50], Loss: 0.0002\n",
      "Epoch [40/50], Loss: 0.0001\n",
      "Epoch [41/50], Loss: 0.0004\n",
      "Epoch [42/50], Loss: 0.0000\n",
      "Epoch [43/50], Loss: 0.0000\n",
      "Epoch [44/50], Loss: 0.0000\n",
      "Epoch [45/50], Loss: 0.0000\n",
      "Epoch [46/50], Loss: 0.2266\n",
      "Epoch [47/50], Loss: 0.0000\n",
      "Epoch [48/50], Loss: 0.0000\n",
      "Epoch [49/50], Loss: 0.0003\n",
      "Epoch [50/50], Loss: 0.0001\n"
     ]
    }
   ],
   "source": [
    "# Convert Numpy arrays to PyTorch tensors\n",
    "X_train = torch.from_numpy(X_train).float()\n",
    "y_train = torch.from_numpy(y_train).float()\n",
    "X_test = torch.from_numpy(X_test).float()\n",
    "y_test = torch.from_numpy(y_test).float()\n",
    "\n",
    "# Move to GPU if available\n",
    "X_train, y_train = X_train.to(device), y_train.to(device)\n",
    "\n",
    "# Hyperparameters\n",
    "batch_size = 32\n",
    "num_epochs = 50\n",
    "\n",
    "model.train()\n",
    "# Train the model\n",
    "for epoch in range(1, num_epochs + 1):\n",
    "    # Shuffle the training data\n",
    "    perm = torch.randperm(X_train.shape[0])\n",
    "    X_train = X_train[perm]\n",
    "    y_train = y_train[perm]\n",
    "\n",
    "    # Loop over batches\n",
    "    for i in range(0, X_train.shape[0], batch_size):\n",
    "        # Get batch\n",
    "        batch_X = X_train[i:i+batch_size]\n",
    "        batch_y = y_train[i:i+batch_size]\n",
    "\n",
    "        # Zero the gradients\n",
    "        optimizer.zero_grad()\n",
    "\n",
    "        # Forward pass\n",
    "        outputs = model(batch_X)\n",
    "        loss = criterion(outputs, batch_y)\n",
    "\n",
    "        # BPTT and optimization\n",
    "        loss.backward()\n",
    "        optimizer.step()\n",
    "\n",
    "    # Print loss for this epoch\n",
    "    print('Epoch [{}/{}], Loss: {:.4f}'.format(epoch, num_epochs, loss.item()))"
   ]
  },
  {
   "cell_type": "markdown",
   "id": "c82054f9-d3cc-476e-9bd9-742d13e8a7b4",
   "metadata": {},
   "source": [
    "### Step 8: Evaluate the Model\n",
    "Finally, we'll evaluate our LSTM model on the testing data."
   ]
  },
  {
   "cell_type": "code",
   "execution_count": 50,
   "id": "f1ee65de-9b8e-4a63-9e38-ec5c1e837430",
   "metadata": {},
   "outputs": [
    {
     "name": "stdout",
     "output_type": "stream",
     "text": [
      "Test Loss: 0.0166\n"
     ]
    }
   ],
   "source": [
    "# Evaluate the model on the test data\n",
    "model.cpu()\n",
    "model.eval()\n",
    "with torch.no_grad():\n",
    "    y_pred = model(X_test)\n",
    "\n",
    "# Calculate the test loss\n",
    "test_loss = criterion(y_pred, y_test)\n",
    "print('Test Loss: {:.4f}'.format(test_loss.item()))"
   ]
  },
  {
   "cell_type": "code",
   "execution_count": 53,
   "id": "0b903c99-45e8-45f3-b79e-daa51b2d9b4a",
   "metadata": {},
   "outputs": [
    {
     "data": {
      "image/png": "[encoded data removed]",
      "text/plain": [
       "<Figure size 1000x600 with 1 Axes>"
      ]
     },
     "metadata": {},
     "output_type": "display_data"
    }
   ],
   "source": [
    "import matplotlib.pyplot as plt\n",
    "\n",
    "# Convert PyTorch tensors to numpy arrays\n",
    "y_test = y_test.numpy()\n",
    "y_pred = y_pred.numpy()\n",
    "\n",
    "# Plot predicted vs actuals\n",
    "plt.figure(figsize=(10, 6))\n",
    "plt.plot(y_test[:500], label='Actual')\n",
    "plt.plot(y_pred[:500], label='Predicted')\n",
    "plt.xlabel('Time Step')\n",
    "plt.ylabel('Value')\n",
    "plt.title('LSTM Predictions')\n",
    "plt.legend()\n",
    "plt.show()"
   ]
  }
 ],
 "metadata": {
  "kernelspec": {
   "display_name": "Python 3 (ipykernel)",
   "language": "python",
   "name": "python3"
  },
  "language_info": {
   "codemirror_mode": {
    "name": "ipython",
    "version": 3
   },
   "file_extension": ".py",
   "mimetype": "text/x-python",
   "name": "python",
   "nbconvert_exporter": "python",
   "pygments_lexer": "ipython3",
   "version": "3.10.13"
  }
 },
 "nbformat": 4,
 "nbformat_minor": 5
}
